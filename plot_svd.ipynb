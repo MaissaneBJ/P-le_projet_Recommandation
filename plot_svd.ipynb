{
 "cells": [
  {
   "cell_type": "markdown",
   "metadata": {},
   "source": [
    "# Le but de ce notebook est de:\n",
    "### 1. Comparer les différentes méthodes pour des données réelles\n",
    "### 2. Vérifier l'hypothèse du rang faible"
   ]
  },
  {
   "cell_type": "markdown",
   "metadata": {},
   "source": [
    "# Importer les librairies"
   ]
  },
  {
   "cell_type": "code",
   "execution_count": null,
   "metadata": {},
   "outputs": [],
   "source": [
    "import matplotlib.pyplot as plt\n",
    "from utilities import extract_complete_matrix\n",
    "import seaborn as sns\n",
    "import pandas as pd\n",
    "from convex_optimization import test_convex\n",
    "import numpy as np\n",
    "from gradient_descent_script import *\n",
    "from alternating_minimization import predict_AltMin\n",
    "from clustering_method import complete_matrix"
   ]
  },
  {
   "cell_type": "code",
   "execution_count": null,
   "metadata": {},
   "outputs": [],
   "source": [
    "import warnings\n",
    "warnings.filterwarnings(\"ignore\")"
   ]
  },
  {
   "cell_type": "markdown",
   "metadata": {},
   "source": [
    "# Importer nos données"
   ]
  },
  {
   "cell_type": "code",
   "execution_count": null,
   "metadata": {},
   "outputs": [],
   "source": [
    "df=pd.read_csv('data.csv', names=['movie_id', 'user_id','rating','date'])\n",
    "# enlever la colonne date\n",
    "df.drop('date', axis=1, inplace=True)"
   ]
  },
  {
   "cell_type": "markdown",
   "metadata": {},
   "source": [
    "## Extraire nos matrices complètes"
   ]
  },
  {
   "cell_type": "code",
   "execution_count": null,
   "metadata": {},
   "outputs": [],
   "source": [
    "M1, M2=extract_complete_matrix(df,0.3), extract_complete_matrix(df,0.25)"
   ]
  },
  {
   "cell_type": "code",
   "execution_count": null,
   "metadata": {},
   "outputs": [],
   "source": [
    "shape_list=[M1.shape, M2.shape]"
   ]
  },
  {
   "cell_type": "code",
   "execution_count": null,
   "metadata": {},
   "outputs": [],
   "source": [
    "shape_list"
   ]
  },
  {
   "cell_type": "markdown",
   "metadata": {},
   "source": [
    "# Prédiction sur les matrices complètes"
   ]
  },
  {
   "cell_type": "code",
   "execution_count": null,
   "metadata": {},
   "outputs": [],
   "source": [
    "predicted=[]\n",
    "for M in [M1,M2]:\n",
    "    m=np.sqrt(M.size)\n",
    "    number_of_samples=int(m*np.log(m)) #Nombre d'entrées observées\n",
    "    n,p=M.shape\n",
    "    rank=int(min(n,p)**(1/5))\n",
    "    #On choisit un ensemble d'entrées observées aléatoire identique pour toutes les méthodes\n",
    "    omega=generate_omega(n,p,number_of_samples)\n",
    "    #Descente de gradient\n",
    "    predicted.append(generate_prediction_noprint(M,omega,rank=rank))\n",
    "    #Minimisation alternée\n",
    "    M_alt=generate_M(M,omega)\n",
    "    predicted.append(predict_AltMin(M_alt,n,p,k=rank)) \n",
    "    #Optimisation convexe\n",
    "    predicted.append(test_convex(M,omega))\n",
    "    #Clustering\n",
    "    M_clust=np.zeros_like(M)\n",
    "    for i,j in omega:\n",
    "        M_clust[i,j]=M[i,j]\n",
    "    M_clust=(complete_matrix(M_clust))\n",
    "    predicted.append(M_clust)"
   ]
  },
  {
   "cell_type": "code",
   "execution_count": null,
   "metadata": {},
   "outputs": [],
   "source": [
    "#Les prédictions pour la première matrice\n",
    "predicted1=predicted[:4]\n",
    "#Les prédictions pour la deuxième matrice\n",
    "predicted2=predicted[4:]"
   ]
  },
  {
   "cell_type": "code",
   "execution_count": null,
   "metadata": {},
   "outputs": [],
   "source": [
    "#Les erreurs dans la prédiction pour la première matrice\n",
    "RMSE1=[np.linalg.norm(M1-M)/np.sqrt(M.size) for M in predicted1]\n",
    "#Les erreurs dans la prédiction pour la deuxième matrice\n",
    "RMSE2=[np.linalg.norm(M2-M)/np.sqrt(M.size) for M in predicted2]"
   ]
  },
  {
   "cell_type": "code",
   "execution_count": null,
   "metadata": {},
   "outputs": [],
   "source": [
    "labels = ['Descente\\n du gradient', 'Minimisation\\n alternée', 'Optimisation\\n convexe', 'Clustering']\n",
    "plt.bar(labels,RMSE1)\n",
    "plt.xlabel('Méthodes')\n",
    "plt.ylabel('RMSE')\n",
    "plt.title('RMSE pour des données réelles (Matrice de taille 1309x41)')\n",
    "plt.show()"
   ]
  },
  {
   "cell_type": "code",
   "execution_count": null,
   "metadata": {},
   "outputs": [],
   "source": [
    "plt.bar(labels,RMSE2)\n",
    "plt.xlabel('Méthodes')\n",
    "plt.ylabel('RMSE')\n",
    "plt.title('RMSE pour des données réelles (Matrice de taille 298x87)')\n",
    "plt.show()"
   ]
  },
  {
   "cell_type": "markdown",
   "metadata": {},
   "source": [
    "# Distribution des valeurs singulières"
   ]
  },
  {
   "cell_type": "markdown",
   "metadata": {},
   "source": [
    "## Préparer nos données"
   ]
  },
  {
   "cell_type": "code",
   "execution_count": null,
   "metadata": {},
   "outputs": [],
   "source": [
    "data_list=[extract_complete_matrix(df,alpha) for alpha in [0.3,0.25,0.2,0.15]]"
   ]
  },
  {
   "cell_type": "code",
   "execution_count": null,
   "metadata": {},
   "outputs": [],
   "source": [
    "shape_list=[str(M.shape) for M in data_list]"
   ]
  },
  {
   "cell_type": "markdown",
   "metadata": {},
   "source": [
    "## Calculer les valeurs singulières"
   ]
  },
  {
   "cell_type": "code",
   "execution_count": null,
   "metadata": {},
   "outputs": [],
   "source": [
    "svd_list=[sorted(np.linalg.svd(M,compute_uv=False), reverse=True) for M in data_list]\n",
    "svd_list=[100*np.array(svd)/np.sum(svd) for svd in svd_list]"
   ]
  },
  {
   "cell_type": "markdown",
   "metadata": {},
   "source": [
    "## Visualiser la distribution des valeurs singulières"
   ]
  },
  {
   "cell_type": "code",
   "execution_count": null,
   "metadata": {},
   "outputs": [],
   "source": [
    "plt.grid(True)\n",
    "for svd in svd_list:\n",
    "    sns.scatterplot(svd,s=20)\n",
    "plt.xlabel(\"Valeurs singulières\")\n",
    "plt.ylabel(\"Pourcentage de la norme nucléaire\")\n",
    "plt.yscale('log')\n",
    "plt.title('Distribution des valeurs singulières')\n",
    "plt.legend(shape_list)\n",
    "plt.show()"
   ]
  }
 ],
 "metadata": {
  "kernelspec": {
   "display_name": "Python 3",
   "language": "python",
   "name": "python3"
  },
  "language_info": {
   "codemirror_mode": {
    "name": "ipython",
    "version": 3
   },
   "file_extension": ".py",
   "mimetype": "text/x-python",
   "name": "python",
   "nbconvert_exporter": "python",
   "pygments_lexer": "ipython3",
   "version": "3.12.0"
  }
 },
 "nbformat": 4,
 "nbformat_minor": 2
}
