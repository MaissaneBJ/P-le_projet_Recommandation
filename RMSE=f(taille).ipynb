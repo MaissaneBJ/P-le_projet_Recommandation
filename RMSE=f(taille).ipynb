{
 "cells": [
  {
   "cell_type": "markdown",
   "metadata": {},
   "source": [
    "Le but de ce notebook est de comparer la performance de nos algorithmes (basée sur la métrique RMSE) en fonction de la taille de l'entrée lorsqu'on prend des matrices aléatoires."
   ]
  },
  {
   "cell_type": "markdown",
   "metadata": {},
   "source": [
    "# Importation des modules nécessaires"
   ]
  },
  {
   "cell_type": "code",
   "execution_count": 3,
   "metadata": {},
   "outputs": [],
   "source": [
    "import numpy as np\n",
    "import numpy.linalg as alg\n",
    "from utilities import generate_low_rank, generate_entries\n",
    "from convex_optimization import test_convex\n",
    "from gradient_descent_script import generate_prediction_noprint, generate_M\n",
    "from clustering_method import complete_matrix\n",
    "from clean_altmin import predict_AltMin\n",
    "import matplotlib.pyplot as plt\n",
    "from tqdm import tqdm"
   ]
  },
  {
   "cell_type": "code",
   "execution_count": 4,
   "metadata": {},
   "outputs": [],
   "source": [
    "import warnings\n",
    "warnings.filterwarnings(\"ignore\")"
   ]
  },
  {
   "cell_type": "markdown",
   "metadata": {},
   "source": [
    "# Variables et fonctions pour tester chaque algorithme"
   ]
  },
  {
   "cell_type": "code",
   "execution_count": 1,
   "metadata": {},
   "outputs": [],
   "source": [
    "N=1000 #taille maximale\n",
    "step=50 #pas sur les tailles\n",
    "nb_iter=1 #nombre d'expériences pour chaque valeur de la taille"
   ]
  },
  {
   "cell_type": "code",
   "execution_count": 6,
   "metadata": {},
   "outputs": [],
   "source": [
    "test_gradient=lambda A,omega: alg.norm(A-generate_prediction_noprint(A,omega,learning_rate=0.1))/A.size**0.5\n",
    "def test_alternating(A,omega):\n",
    "    M=generate_M(A,omega)\n",
    "    P=predict_AltMin(M,*A.shape)\n",
    "    return alg.norm(A-P)/P.size**0.5\n",
    "def test_clustering(A,omega): \n",
    "    n,p=A.shape\n",
    "    M=np.zeros((n,p))\n",
    "    for i,j in omega:\n",
    "        M[i,j]=A[i,j]\n",
    "    return alg.norm(A-complete_matrix(M))/A.size**0.5"
   ]
  },
  {
   "cell_type": "markdown",
   "metadata": {},
   "source": [
    "Chacune de ces fonctions prend en entrée la matrice complète et l'ensemble omega des entrées révélées et retourne la RMSE de la prédiction de l'algorithme correspondant."
   ]
  },
  {
   "cell_type": "markdown",
   "metadata": {},
   "source": [
    "# Traçage des courbes"
   ]
  },
  {
   "cell_type": "code",
   "execution_count": null,
   "metadata": {},
   "outputs": [],
   "source": [
    "n_list=np.arange(50,N,step)\n",
    "RMSE_convex=np.zeros_like(n_list)\n",
    "RMSE_gradient=np.zeros_like(n_list)\n",
    "RMSE_alternating=np.zeros_like(n_list)\n",
    "RMSE_clustering=np.zeros_like(n_list)\n",
    "for p in tqdm(range(n_list.shape)):\n",
    "    n=n_list[p]\n",
    "    X_convex=np.ndarray(nb_iter)\n",
    "    X_gradient=np.ndarray(nb_iter)\n",
    "    X_alternating=np.ndarray(nb_iter)\n",
    "    X_clustering=np.ndarray(nb_iter)\n",
    "    for i in range(nb_iter):\n",
    "        omega=generate_entries(n,n,int(5*n*np.log(n)))\n",
    "        A=generate_low_rank(n,n,int(n**(1/5)))\n",
    "        X_convex[i]=test_convex(A,omega)\n",
    "        X_gradient[i]=test_gradient(A,omega)\n",
    "        X_clustering[i]=test_clustering(A,omega)\n",
    "        X_alternating[i]=test_alternating(A,omega)\n",
    "    RMSE_convex[p]=np.mean(X_convex)\n",
    "    RMSE_gradient[p]=np.mean(X_gradient)\n",
    "    RMSE_alternating[p]=np.mean(X_alternating)\n",
    "    RMSE_clustering[p]=np.mean(X_clustering)"
   ]
  },
  {
   "cell_type": "code",
   "execution_count": null,
   "metadata": {
    "tags": []
   },
   "outputs": [],
   "source": [
    "plt.plot(n_list,RMSE_convex,label=\"Optimisation convexe\")\n",
    "plt.plot(n_list,RMSE_gradient,label=\"Descente du gradient\")\n",
    "plt.plot(n_list,RMSE_alternating,label=\"Minimisation alternée\")\n",
    "plt.plot(n_list,RMSE_clustering,label=\"Clustering\")\n",
    "plt.ylabel(\"RMSE moyen\")\n",
    "plt.xlabel(\"taille de la matrice\")\n",
    "plt.title(\"RMSE en fonction de la taille\")\n",
    "plt.legend()\n",
    "plt.show()"
   ]
  }
 ],
 "metadata": {
  "environment": {
   "kernel": "python3",
   "name": "tf2-cpu.2-11.m121",
   "type": "gcloud",
   "uri": "us-docker.pkg.dev/deeplearning-platform-release/gcr.io/tf2-cpu.2-11:m121"
  },
  "kernelspec": {
   "display_name": "Python 3 (Local)",
   "language": "python",
   "name": "python3"
  },
  "language_info": {
   "codemirror_mode": {
    "name": "ipython",
    "version": 3
   },
   "file_extension": ".py",
   "mimetype": "text/x-python",
   "name": "python",
   "nbconvert_exporter": "python",
   "pygments_lexer": "ipython3",
   "version": "3.10.5"
  }
 },
 "nbformat": 4,
 "nbformat_minor": 4
}
