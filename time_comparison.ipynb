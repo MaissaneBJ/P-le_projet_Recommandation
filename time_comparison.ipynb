{
 "cells": [
  {
   "cell_type": "markdown",
   "metadata": {},
   "source": [
    "Le but de ce notebook est de comparer le temps d'exécution de nos algorithmes en fonction de la taille de l'entrée lorsqu'on prend des matrices aléatoires."
   ]
  },
  {
   "cell_type": "markdown",
   "metadata": {},
   "source": [
    "# Importation des modules nécessaires"
   ]
  },
  {
   "cell_type": "code",
   "execution_count": null,
   "metadata": {},
   "outputs": [],
   "source": [
    "import pickle\n",
    "import time\n",
    "import clustering_method as cls\n",
    "import gradient_descent_script as gd \n",
    "import alternating_minimization as alt\n",
    "from utilities import generate_low_rank, generate_entries\n",
    "import convex_optimization as cvx\n",
    "import matplotlib.pyplot as plt\n",
    "import numpy as np\n",
    "from tqdm import tqdm"
   ]
  },
  {
   "cell_type": "code",
   "execution_count": null,
   "metadata": {},
   "outputs": [],
   "source": [
    "import warnings\n",
    "warnings.filterwarnings('ignore')"
   ]
  },
  {
   "cell_type": "markdown",
   "metadata": {},
   "source": [
    "# Variables"
   ]
  },
  {
   "cell_type": "code",
   "execution_count": null,
   "metadata": {},
   "outputs": [],
   "source": [
    "T=range(50,601,50) #tailles considérées\n",
    "complete_matrices = [generate_low_rank(n,n,int(n**(1/5))) for n in T] #Génération des matrices complètes de rang int(n^(1/5)) pour chaque taille n\n",
    "n=len(complete_matrices)\n",
    "entries = [generate_entries(n,n,int(5*n*np.log(n))) for n in T] #Génération des entrées à révéler int(5nlog(n)) pour chaque taille n"
   ]
  },
  {
   "cell_type": "markdown",
   "metadata": {},
   "source": [
    "# Traçage des courbes"
   ]
  },
  {
   "cell_type": "markdown",
   "metadata": {},
   "source": [
    "## Clustering"
   ]
  },
  {
   "cell_type": "code",
   "execution_count": null,
   "metadata": {},
   "outputs": [],
   "source": [
    "duration_clustering = []\n",
    "for i in tqdm(range(n)):\n",
    "    debut_clustering = time.time() \n",
    "    incomplete_m=complete_matrices[i]\n",
    "    L=tuple(zip(*entries[i]))\n",
    "    incomplete_m[L]=np.zeros(len(entries[i]))\n",
    "    complete_m = cls.complete_matrix(incomplete_m)\n",
    "    fin_clustering = time.time()\n",
    "    duration_clustering.append(fin_clustering-debut_clustering)"
   ]
  },
  {
   "cell_type": "code",
   "execution_count": null,
   "metadata": {},
   "outputs": [],
   "source": [
    "with open(\"predicted_time_clustering\", \"wb\") as f:\n",
    "    pickle.dump(duration_clustering, f)"
   ]
  },
  {
   "cell_type": "markdown",
   "metadata": {},
   "source": [
    "## Optimisation convexe"
   ]
  },
  {
   "cell_type": "code",
   "execution_count": null,
   "metadata": {},
   "outputs": [],
   "source": [
    "duration_cvx = []\n",
    "for i in tqdm(range(n)):\n",
    "    Y=complete_matrices[i]\n",
    "    list_of_entries=entries[i]\n",
    "    debut_cvx = time.time() \n",
    "    complete_m = cvx.test_convex(Y,list_of_entries)\n",
    "    fin_cvx = time.time()\n",
    "    duration_cvx.append(fin_cvx-debut_cvx)"
   ]
  },
  {
   "cell_type": "code",
   "execution_count": null,
   "metadata": {},
   "outputs": [],
   "source": [
    "with open(\"predicted_time_cvx\", \"wb\") as f:\n",
    "    pickle.dump(duration_cvx, f)"
   ]
  },
  {
   "cell_type": "markdown",
   "metadata": {},
   "source": [
    "## Descente du gradient"
   ]
  },
  {
   "cell_type": "code",
   "execution_count": null,
   "metadata": {},
   "outputs": [],
   "source": [
    "duration_gd = []\n",
    "for i in tqdm(range(n)):\n",
    "    Y=complete_matrices[i]\n",
    "    list_of_entries=entries[i]\n",
    "    debut_gd = time.time() \n",
    "    complete_m = gd.generate_prediction_noprint(Y,list_of_entries,rank=int(Y.shape[0]**(1/5)), learning_rate=0.1)\n",
    "    fin_gd = time.time()\n",
    "    duration_gd.append(fin_gd-debut_gd)"
   ]
  },
  {
   "cell_type": "code",
   "execution_count": null,
   "metadata": {},
   "outputs": [],
   "source": [
    "with open(\"predicted_time_gd\", \"wb\") as f:\n",
    "    pickle.dump(duration_gd, f)"
   ]
  },
  {
   "cell_type": "markdown",
   "metadata": {},
   "source": [
    "## Minimisation alternée"
   ]
  },
  {
   "cell_type": "code",
   "execution_count": null,
   "metadata": {},
   "outputs": [],
   "source": [
    "duration_alt = []\n",
    "for i in tqdm(range(n)):\n",
    "    Y=complete_matrices[i]\n",
    "    list_of_entries=entries[i]\n",
    "    M=gd.generate_M(Y,list_of_entries)\n",
    "    p,m=Y.shape\n",
    "    debut_alt = time.time() \n",
    "    complete_m = alt.AltMinComplete(list_of_entries,M,p,m,k=int(p**(1/5)))\n",
    "    fin_alt = time.time()\n",
    "    duration_alt.append(fin_alt-debut_alt)"
   ]
  },
  {
   "cell_type": "code",
   "execution_count": null,
   "metadata": {},
   "outputs": [],
   "source": [
    "with open(\"predicted_time_alt\", \"wb\") as f:\n",
    "    pickle.dump(duration_alt, f)"
   ]
  },
  {
   "cell_type": "code",
   "execution_count": null,
   "metadata": {},
   "outputs": [],
   "source": [
    "plt.plot(T,duration_cvx,label=\"Optimisation convexe\")\n",
    "plt.plot(T,duration_gd,label=\"Descente du gradient\")\n",
    "plt.plot(T,duration_alt,label=\"Minimisation alternée\")\n",
    "plt.plot(T,duration_clustering,label=\"Clustering\")\n",
    "plt.xlabel('Taille de la matrice')\n",
    "plt.ylabel(\"temps (min)\")\n",
    "plt.title(\"Temps d'exécution en fonction de la taille\")\n",
    "plt.legend()\n",
    "plt.show()"
   ]
  }
 ],
 "metadata": {
  "kernelspec": {
   "display_name": "Python 3",
   "language": "python",
   "name": "python3"
  },
  "language_info": {
   "codemirror_mode": {
    "name": "ipython",
    "version": 3
   },
   "file_extension": ".py",
   "mimetype": "text/x-python",
   "name": "python",
   "nbconvert_exporter": "python",
   "pygments_lexer": "ipython3",
   "version": "3.10.5"
  }
 },
 "nbformat": 4,
 "nbformat_minor": 2
}
